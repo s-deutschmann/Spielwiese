{
  "nbformat": 4,
  "nbformat_minor": 0,
  "metadata": {
    "colab": {
      "provenance": [],
      "collapsed_sections": [],
      "authorship_tag": "ABX9TyNZBB6X381ejlh5/GcFex6v",
      "include_colab_link": true
    },
    "kernelspec": {
      "name": "python3",
      "display_name": "Python 3"
    },
    "language_info": {
      "name": "python"
    }
  },
  "cells": [
    {
      "cell_type": "markdown",
      "metadata": {
        "id": "view-in-github",
        "colab_type": "text"
      },
      "source": [
        "<a href=\"https://colab.research.google.com/github/s-deutschmann/Spielwiese/blob/main/Test.ipynb\" target=\"_parent\"><img src=\"https://colab.research.google.com/assets/colab-badge.svg\" alt=\"Open In Colab\"/></a>"
      ]
    },
    {
      "cell_type": "markdown",
      "source": [
        "**Test Notebook**"
      ],
      "metadata": {
        "id": "WJMyRV9bHRBk"
      }
    },
    {
      "cell_type": "code",
      "execution_count": 1,
      "metadata": {
        "id": "ebMeTnR3HMrA",
        "colab": {
          "base_uri": "https://localhost:8080/"
        },
        "outputId": "8eb489bd-5d7a-48aa-fa6a-f4f289565192"
      },
      "outputs": [
        {
          "output_type": "stream",
          "name": "stdout",
          "text": [
            "Hallo Welt\n"
          ]
        }
      ],
      "source": [
        "print('Hallo Welt')"
      ]
    }
  ]
}