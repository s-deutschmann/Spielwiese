{
 "cells": [
  {
   "cell_type": "markdown",
   "metadata": {},
   "source": [
    "# Machine Learning \n",
    "**🙋🏻‍♂️Q:** Was ist Machine Learning (ML)?\n",
    "\n",
    "**💡A:** ML ist die algorithmische Erstellung eines statistischen Models auf der Grundlage eines Datensatzes.\n",
    "\n",
    "\n",
    "## Mathe 📖\n",
    " Bevor wir beginnen, ein bisschen mathemathische Notation:\n",
    "- **x**: (Feature) Vector\n",
    "\n",
    "- $y$: Label\n",
    "\n",
    "- $N$: Größe des Datasets \n",
    "\n",
    "- $X$: Dataset \n",
    "> 📝 Gibt es zu jedem Feature Vector ein Label, so setzt sich das Dataset aus $X$ = {**x**<sub>$i$</sub>$, y$<sub>$i$</sub>)}$_{i=1}^N$ zusammen. Sind die Daten unlabeled, gilt $X$ = {**x**<sub>$i$</sub>)}$_{i=1}^N$\n",
    "\n",
    "\n",
    "## Unterscheidung von ML-Algorithmen 🔎\n",
    "ML-Algorithmen werden allgmein nach ihren \"Lerntypen\" klassifiziert. \n",
    "\n",
    "### Supervised Learning\n",
    "Das Ziel eines Supervised Learning Algorithmus ist es, aus einem Dataset ein Model zu erstellen, das einen Feature Vectors **x** als Eingabe nimmt und Informationen ausgibt, die es erlauben, das Label für diesen Vektor abzuleiten/zu bestimmen. Die Anwendung von Supervised Learning Algorithmen ist vielfältig, von Klassifikationsproblemen (z.B. automatische Spam Erkennung o. Bildklassifizierung) bis hin zu Prognoseproblemen (z.B. Kusentwicklungen o. Krankheitsprognosen).\n",
    "\n",
    "### Semi-Supervised Learning\n",
    "Beim Semi-Supervised Learning enthält das Dataset sowohl labeld als auch unlabeld Feature Vectors. Dabei ist das Ziel, das gleiche wie bei einem Supervised Learning Algorithmus. Die Hoffnung ist hier, dass die Verwendung vieler unlabeld Feature Vectors\n",
    "dem Lernalgorithmus dabei helfen, ein generischeres Model zu finden.\n",
    "\n",
    "### Unsupervised Learning\n",
    "Beim Unsupervised Learning ist das Dataset eine Sammlung von unlabeld Feature Vectors. Das Ziel eines Unsupervised Learning Algorithmus ist\n",
    "ein Model zu erstellen, dass einen Vektor **x** als Eingabe nimmt und ihn entweder in einen anderen Vektor oder in einen Wert umwandelt, der zur Lösung eines praktischen Problems verwendet werden kann. Mögliche Anwendungsgebiete sind clustering, Dimensionsreduktion oder Ausreißer-Erkennung.\n",
    "\n",
    "### Reinforcement Learning\n",
    "Ein weiterer \"Lerntyp\" ist das Reinforcement Learning. Ähnlich zum Unsupervised Learning werden keine Label im Datasets benötigt. Vielmehr geht es darum, auf Basis von Belohnungen eine optimale Strategie in seinem aktuellen Umweld zu entwickeln. Das Reinforcement Learning behandelt meistens  Probleme, bei welchen sequenzielle Entscheidungen getroffen werden müssen (z.B. Schach spielen). \n",
    "\n",
    "**📹Video-Link📹**:\n",
    "[MIT - Introduction to Machine Learning](https://www.youtube.com/watch?v=h0e2HAPTGF4)\n",
    "\n",
    "\n",
    "## Wie funktioniert Machine Learning? 🤖\n",
    "### Dataset\n",
    "Ein Machine Learning Problem startet immer mit dem Dataset selbst. Zwei wichtige Eigenschaften eines Datasets sind dabei die **Qualität** und die **Größe**.\n",
    "\n",
    "#### Größe\n",
    "> 📝 👊Faustregel👊: Ein Dataset sollte immer ein Vielfaches der lernbaren Labels/Paramenter als Größe haben. Zu groß gibt es eigentlich nicht.\n",
    "\n",
    "Hier ein paar Beispiele von bekannten Datasets:\n",
    "\n",
    "| Dataset | Labels | Größe |\n",
    "| :-- | --: | --: |\n",
    "| [Iris Data Set](https://archive.ics.uci.edu/ml/datasets/iris) | 3 | 150 |\n",
    "| [Chest X-Ray Images](https://www.kaggle.com/datasets/paultimothymooney/chest-xray-pneumonia) | 2 | 5.863 |\n",
    "| [CIFAR-10](https://www.tensorflow.org/datasets/catalog/cifar10) | 10 | 6.000 |\n",
    "| [MNIST](https://www.tensorflow.org/datasets/catalog/mnist) | 10 | 70.000 |\n",
    "| [ImageNet](https://image-net.org/)| 21.800 | 14.200.00 |\n",
    "\n",
    "#### Qualität\n",
    "**🙋🏻‍♂️Q:** Was versteht man unter der Qualität eines Datasets?\n",
    "\n",
    "**💡A:** Die Qualität eines Datasets misst, wie gut die Daten die beabsichtigte Aufgabe erfüllen.\n",
    "\n",
    "Um die Qualität eines Datasets herrauszufinden, können diese Fragen helfen:\n",
    "* Sind die Daten repräsentativ?\n",
    "* Wie häufig sind Fehler? (z.B. fehlende Features o. falsche Label)\n",
    "* Wie genau sind die Daten? \n",
    "* Sollten/können Werte transformiert werden?\n",
    "\n",
    "### ML-Algorithmus\n",
    "Damit aus dem Dataset ein Model generiert werden kann, wird ein ML-Algorithmus genutzt. Ein kleiner Überblick über die weitverbreitetsten ML-Algorithmen:\n",
    "* Decision Tree\n",
    "* Random Forest\n",
    "* Support Vector Machine (SVM)\n",
    "* K- Nearest Neighbors (KNN)\n",
    "* Self-Organizing Map (SOM)\n",
    "* K-Means\n",
    "* Gradient Boosting\n",
    "* Convolutional Neural Network (CNN)\n",
    "* Recurrent Neural Networks (RNNs)\n",
    "\n",
    "Je nach Problemstellung und Dataset wird können ein oder mehrere ML-Algorithmen genutzt werden um ein Model zu trainieren.\n",
    "\n",
    "### Model\n",
    "**🙋🏻‍♂️Q:** Was ist ein Model?\n",
    "\n",
    "**💡A:** Ein Model ist eine aus Daten abgeleitete mathematische Beziehung, die ein ML-System verwendet, um Vorhersagen zu treffen.\n",
    "\n",
    "> 📝 Dataset + ML-Algorithmus = Model"
   ]
  },
  {
   "cell_type": "markdown",
   "metadata": {},
   "source": [
    "## Beispiel 1 🌳Decision Tree🌳\n",
    "### Dataset\n",
    "Als erstes Beispiel gucken wir uns das [Iris Data Set](https://archive.ics.uci.edu/ml/datasets/iris) an. Das Dataset enthält Informationen zu drei Klassen der Iris-Pflanze, nämlich Setosa, Versicolour und Virginica, mit den folgenden Attributen: Blattlänge, Battbreite, Blütenblattlänge und Blütenblattbreite.\n",
    "\n",
    "> 📝 Für Data Analysis ➔ [pandas](https://pandas.pydata.org/)"
   ]
  },
  {
   "cell_type": "code",
   "execution_count": 30,
   "metadata": {},
   "outputs": [
    {
     "data": {
      "text/html": [
       "<div>\n",
       "<style scoped>\n",
       "    .dataframe tbody tr th:only-of-type {\n",
       "        vertical-align: middle;\n",
       "    }\n",
       "\n",
       "    .dataframe tbody tr th {\n",
       "        vertical-align: top;\n",
       "    }\n",
       "\n",
       "    .dataframe thead th {\n",
       "        text-align: right;\n",
       "    }\n",
       "</style>\n",
       "<table border=\"1\" class=\"dataframe\">\n",
       "  <thead>\n",
       "    <tr style=\"text-align: right;\">\n",
       "      <th></th>\n",
       "      <th>sepal length (cm)</th>\n",
       "      <th>sepal width (cm)</th>\n",
       "      <th>petal length (cm)</th>\n",
       "      <th>petal width (cm)</th>\n",
       "      <th>target</th>\n",
       "    </tr>\n",
       "  </thead>\n",
       "  <tbody>\n",
       "    <tr>\n",
       "      <th>count</th>\n",
       "      <td>150.000000</td>\n",
       "      <td>150.000000</td>\n",
       "      <td>150.000000</td>\n",
       "      <td>150.000000</td>\n",
       "      <td>150.000000</td>\n",
       "    </tr>\n",
       "    <tr>\n",
       "      <th>mean</th>\n",
       "      <td>5.843333</td>\n",
       "      <td>3.057333</td>\n",
       "      <td>3.758000</td>\n",
       "      <td>1.199333</td>\n",
       "      <td>1.000000</td>\n",
       "    </tr>\n",
       "    <tr>\n",
       "      <th>std</th>\n",
       "      <td>0.828066</td>\n",
       "      <td>0.435866</td>\n",
       "      <td>1.765298</td>\n",
       "      <td>0.762238</td>\n",
       "      <td>0.819232</td>\n",
       "    </tr>\n",
       "    <tr>\n",
       "      <th>min</th>\n",
       "      <td>4.300000</td>\n",
       "      <td>2.000000</td>\n",
       "      <td>1.000000</td>\n",
       "      <td>0.100000</td>\n",
       "      <td>0.000000</td>\n",
       "    </tr>\n",
       "    <tr>\n",
       "      <th>25%</th>\n",
       "      <td>5.100000</td>\n",
       "      <td>2.800000</td>\n",
       "      <td>1.600000</td>\n",
       "      <td>0.300000</td>\n",
       "      <td>0.000000</td>\n",
       "    </tr>\n",
       "    <tr>\n",
       "      <th>50%</th>\n",
       "      <td>5.800000</td>\n",
       "      <td>3.000000</td>\n",
       "      <td>4.350000</td>\n",
       "      <td>1.300000</td>\n",
       "      <td>1.000000</td>\n",
       "    </tr>\n",
       "    <tr>\n",
       "      <th>75%</th>\n",
       "      <td>6.400000</td>\n",
       "      <td>3.300000</td>\n",
       "      <td>5.100000</td>\n",
       "      <td>1.800000</td>\n",
       "      <td>2.000000</td>\n",
       "    </tr>\n",
       "    <tr>\n",
       "      <th>max</th>\n",
       "      <td>7.900000</td>\n",
       "      <td>4.400000</td>\n",
       "      <td>6.900000</td>\n",
       "      <td>2.500000</td>\n",
       "      <td>2.000000</td>\n",
       "    </tr>\n",
       "  </tbody>\n",
       "</table>\n",
       "</div>"
      ],
      "text/plain": [
       "       sepal length (cm)  sepal width (cm)  petal length (cm)  \\\n",
       "count         150.000000        150.000000         150.000000   \n",
       "mean            5.843333          3.057333           3.758000   \n",
       "std             0.828066          0.435866           1.765298   \n",
       "min             4.300000          2.000000           1.000000   \n",
       "25%             5.100000          2.800000           1.600000   \n",
       "50%             5.800000          3.000000           4.350000   \n",
       "75%             6.400000          3.300000           5.100000   \n",
       "max             7.900000          4.400000           6.900000   \n",
       "\n",
       "       petal width (cm)      target  \n",
       "count        150.000000  150.000000  \n",
       "mean           1.199333    1.000000  \n",
       "std            0.762238    0.819232  \n",
       "min            0.100000    0.000000  \n",
       "25%            0.300000    0.000000  \n",
       "50%            1.300000    1.000000  \n",
       "75%            1.800000    2.000000  \n",
       "max            2.500000    2.000000  "
      ]
     },
     "execution_count": 30,
     "metadata": {},
     "output_type": "execute_result"
    }
   ],
   "source": [
    "import pandas as pd\n",
    "from sklearn.datasets import load_iris\n",
    "\n",
    "\n",
    "#Laden des Iris Dataset\n",
    "iris_data = load_iris(as_frame=True)\n",
    "\n",
    "# Konvertierung der CSV in Pandas Dataframe\n",
    "df = pd.DataFrame(data=iris_data.frame)\n",
    "\n",
    "# Zusammenfassung des Datasets\n",
    "df.describe()"
   ]
  },
  {
   "cell_type": "code",
   "execution_count": 31,
   "metadata": {},
   "outputs": [
    {
     "data": {
      "image/png": "[encoded data removed]",
      "text/plain": [
       "<Figure size 640x480 with 1 Axes>"
      ]
     },
     "metadata": {},
     "output_type": "display_data"
    }
   ],
   "source": [
    "import matplotlib\n",
    "import matplotlib.pyplot as plt\n",
    "\n",
    "# Visualisierung \n",
    "fig, ax = plt.subplots()\n",
    "# Scatterplot\n",
    "colors = ['tab:red','tab:blue','tab:orange']\n",
    "scatter = ax.scatter(df['petal length (cm)'], df['petal width (cm)'], c=df['target'], cmap=matplotlib.colors.ListedColormap(colors))\n",
    "# Legende\n",
    "legend1 = ax.legend(scatter.legend_elements()[0], iris_data.target_names, title='Typ')\n",
    "ax.add_artist(legend1)\n",
    "\n",
    "plt.show()"
   ]
  },
  {
   "cell_type": "markdown",
   "metadata": {},
   "source": [
    "### ML-Algorithmus\n",
    "Ein **Decision Tree** ist ein azyklischer Graph, der zur Entscheidungsfindung verwendet werden kann. In jeder Node des Graphen wird ein bestimmtes Feature $j$ des Feature Vectors **x** untersucht. Wenn der Wert von **x**$^j$ unter einem bestimmten Schwellenwert liegt, wird dem linken Branch gefolgt, andernfalls wird dem rechte Branch gefolgt.\n",
    "\n",
    "**Decision Trees** können auf Basis unterschiedlicher Lernalgorithmen trainiert werden. In diesem Beispiel nutzen wir die [Scikit-learn Libary](https://scikit-learn.org/stable/modules/tree.html), welche **CART** verwendet.\n",
    "\n",
    "Der Parameter `criterion` ist ein sogenannter **Hyperparameter**.\n",
    "> 📝 Hyperparameter sind Parameter, deren Werte *nicht* durch Training erlernt werden. Sie dienen zur Kontrolle des Lernverhaltens. "
   ]
  },
  {
   "cell_type": "code",
   "execution_count": 32,
   "metadata": {},
   "outputs": [
    {
     "data": {
      "text/html": [
       "<style>#sk-container-id-2 {color: black;background-color: white;}#sk-container-id-2 pre{padding: 0;}#sk-container-id-2 div.sk-toggleable {background-color: white;}#sk-container-id-2 label.sk-toggleable__label {cursor: pointer;display: block;width: 100%;margin-bottom: 0;padding: 0.3em;box-sizing: border-box;text-align: center;}#sk-container-id-2 label.sk-toggleable__label-arrow:before {content: \"▸\";float: left;margin-right: 0.25em;color: #696969;}#sk-container-id-2 label.sk-toggleable__label-arrow:hover:before {color: black;}#sk-container-id-2 div.sk-estimator:hover label.sk-toggleable__label-arrow:before {color: black;}#sk-container-id-2 div.sk-toggleable__content {max-height: 0;max-width: 0;overflow: hidden;text-align: left;background-color: #f0f8ff;}#sk-container-id-2 div.sk-toggleable__content pre {margin: 0.2em;color: black;border-radius: 0.25em;background-color: #f0f8ff;}#sk-container-id-2 input.sk-toggleable__control:checked~div.sk-toggleable__content {max-height: 200px;max-width: 100%;overflow: auto;}#sk-container-id-2 input.sk-toggleable__control:checked~label.sk-toggleable__label-arrow:before {content: \"▾\";}#sk-container-id-2 div.sk-estimator input.sk-toggleable__control:checked~label.sk-toggleable__label {background-color: #d4ebff;}#sk-container-id-2 div.sk-label input.sk-toggleable__control:checked~label.sk-toggleable__label {background-color: #d4ebff;}#sk-container-id-2 input.sk-hidden--visually {border: 0;clip: rect(1px 1px 1px 1px);clip: rect(1px, 1px, 1px, 1px);height: 1px;margin: -1px;overflow: hidden;padding: 0;position: absolute;width: 1px;}#sk-container-id-2 div.sk-estimator {font-family: monospace;background-color: #f0f8ff;border: 1px dotted black;border-radius: 0.25em;box-sizing: border-box;margin-bottom: 0.5em;}#sk-container-id-2 div.sk-estimator:hover {background-color: #d4ebff;}#sk-container-id-2 div.sk-parallel-item::after {content: \"\";width: 100%;border-bottom: 1px solid gray;flex-grow: 1;}#sk-container-id-2 div.sk-label:hover label.sk-toggleable__label {background-color: #d4ebff;}#sk-container-id-2 div.sk-serial::before {content: \"\";position: absolute;border-left: 1px solid gray;box-sizing: border-box;top: 0;bottom: 0;left: 50%;z-index: 0;}#sk-container-id-2 div.sk-serial {display: flex;flex-direction: column;align-items: center;background-color: white;padding-right: 0.2em;padding-left: 0.2em;position: relative;}#sk-container-id-2 div.sk-item {position: relative;z-index: 1;}#sk-container-id-2 div.sk-parallel {display: flex;align-items: stretch;justify-content: center;background-color: white;position: relative;}#sk-container-id-2 div.sk-item::before, #sk-container-id-2 div.sk-parallel-item::before {content: \"\";position: absolute;border-left: 1px solid gray;box-sizing: border-box;top: 0;bottom: 0;left: 50%;z-index: -1;}#sk-container-id-2 div.sk-parallel-item {display: flex;flex-direction: column;z-index: 1;position: relative;background-color: white;}#sk-container-id-2 div.sk-parallel-item:first-child::after {align-self: flex-end;width: 50%;}#sk-container-id-2 div.sk-parallel-item:last-child::after {align-self: flex-start;width: 50%;}#sk-container-id-2 div.sk-parallel-item:only-child::after {width: 0;}#sk-container-id-2 div.sk-dashed-wrapped {border: 1px dashed gray;margin: 0 0.4em 0.5em 0.4em;box-sizing: border-box;padding-bottom: 0.4em;background-color: white;}#sk-container-id-2 div.sk-label label {font-family: monospace;font-weight: bold;display: inline-block;line-height: 1.2em;}#sk-container-id-2 div.sk-label-container {text-align: center;}#sk-container-id-2 div.sk-container {/* jupyter's `normalize.less` sets `[hidden] { display: none; }` but bootstrap.min.css set `[hidden] { display: none !important; }` so we also need the `!important` here to be able to override the default hidden behavior on the sphinx rendered scikit-learn.org. See: https://github.com/scikit-learn/scikit-learn/issues/21755 */display: inline-block !important;position: relative;}#sk-container-id-2 div.sk-text-repr-fallback {display: none;}</style><div id=\"sk-container-id-2\" class=\"sk-top-container\"><div class=\"sk-text-repr-fallback\"><pre>DecisionTreeClassifier()</pre><b>In a Jupyter environment, please rerun this cell to show the HTML representation or trust the notebook. <br />On GitHub, the HTML representation is unable to render, please try loading this page with nbviewer.org.</b></div><div class=\"sk-container\" hidden><div class=\"sk-item\"><div class=\"sk-estimator sk-toggleable\"><input class=\"sk-toggleable__control sk-hidden--visually\" id=\"sk-estimator-id-2\" type=\"checkbox\" checked><label for=\"sk-estimator-id-2\" class=\"sk-toggleable__label sk-toggleable__label-arrow\">DecisionTreeClassifier</label><div class=\"sk-toggleable__content\"><pre>DecisionTreeClassifier()</pre></div></div></div></div></div>"
      ],
      "text/plain": [
       "DecisionTreeClassifier()"
      ]
     },
     "execution_count": 32,
     "metadata": {},
     "output_type": "execute_result"
    }
   ],
   "source": [
    "from sklearn.tree import DecisionTreeClassifier\n",
    "from sklearn.model_selection import train_test_split\n",
    "\n",
    "# Unterteilen des Dataset in Trainings- & Testdaten (70:30)\n",
    "X, y = iris_data.data, iris_data.target\n",
    "X_train, X_test, y_train, y_test = train_test_split(X, y, test_size=0.3, random_state=4)\n",
    "\n",
    "# Berechnen des Models\n",
    "clf = DecisionTreeClassifier(criterion='gini')\n",
    "clf.fit(X_train, y_train)"
   ]
  },
  {
   "cell_type": "markdown",
   "metadata": {},
   "source": [
    "### Model\n",
    "Mit `tree.plot()` kann der resultierende Decision Tree vizualisiert werden. "
   ]
  },
  {
   "cell_type": "code",
   "execution_count": 33,
   "metadata": {},
   "outputs": [
    {
     "data": {
      "text/plain": [
       "[Text(0.5, 0.9, 'petal length (cm) <= 2.45\\ngini = 0.661\\nsamples = 105\\nvalue = [29, 40, 36]'),\n",
       " Text(0.4230769230769231, 0.7, 'gini = 0.0\\nsamples = 29\\nvalue = [29, 0, 0]'),\n",
       " Text(0.5769230769230769, 0.7, 'petal width (cm) <= 1.75\\ngini = 0.499\\nsamples = 76\\nvalue = [0, 40, 36]'),\n",
       " Text(0.3076923076923077, 0.5, 'petal length (cm) <= 4.95\\ngini = 0.169\\nsamples = 43\\nvalue = [0, 39, 4]'),\n",
       " Text(0.15384615384615385, 0.3, 'petal width (cm) <= 1.65\\ngini = 0.05\\nsamples = 39\\nvalue = [0, 38, 1]'),\n",
       " Text(0.07692307692307693, 0.1, 'gini = 0.0\\nsamples = 38\\nvalue = [0, 38, 0]'),\n",
       " Text(0.23076923076923078, 0.1, 'gini = 0.0\\nsamples = 1\\nvalue = [0, 0, 1]'),\n",
       " Text(0.46153846153846156, 0.3, 'petal width (cm) <= 1.65\\ngini = 0.375\\nsamples = 4\\nvalue = [0, 1, 3]'),\n",
       " Text(0.38461538461538464, 0.1, 'gini = 0.0\\nsamples = 3\\nvalue = [0, 0, 3]'),\n",
       " Text(0.5384615384615384, 0.1, 'gini = 0.0\\nsamples = 1\\nvalue = [0, 1, 0]'),\n",
       " Text(0.8461538461538461, 0.5, 'petal length (cm) <= 4.85\\ngini = 0.059\\nsamples = 33\\nvalue = [0, 1, 32]'),\n",
       " Text(0.7692307692307693, 0.3, 'sepal length (cm) <= 5.95\\ngini = 0.444\\nsamples = 3\\nvalue = [0, 1, 2]'),\n",
       " Text(0.6923076923076923, 0.1, 'gini = 0.0\\nsamples = 1\\nvalue = [0, 1, 0]'),\n",
       " Text(0.8461538461538461, 0.1, 'gini = 0.0\\nsamples = 2\\nvalue = [0, 0, 2]'),\n",
       " Text(0.9230769230769231, 0.3, 'gini = 0.0\\nsamples = 30\\nvalue = [0, 0, 30]')]"
      ]
     },
     "execution_count": 33,
     "metadata": {},
     "output_type": "execute_result"
    },
    {
     "data": {
      "image/png": "[encoded data removed]",
      "text/plain": [
       "<Figure size 640x480 with 1 Axes>"
      ]
     },
     "metadata": {},
     "output_type": "display_data"
    }
   ],
   "source": [
    "import graphviz\n",
    "from sklearn import tree\n",
    "\n",
    "# Visualisierung des Models\n",
    "tree.plot_tree(clf, feature_names=X.columns)"
   ]
  },
  {
   "cell_type": "code",
   "execution_count": 34,
   "metadata": {},
   "outputs": [
    {
     "name": "stdout",
     "output_type": "stream",
     "text": [
      "Genauigkeit der Testdaten-Klassifikation: 0.978\n"
     ]
    }
   ],
   "source": [
    "from sklearn.metrics import accuracy_score\n",
    "\n",
    "# Prediction der Label von ungesehenen Testdaten\n",
    "y_pred = clf.predict(X_test)\n",
    "print('Genauigkeit der Testdaten-Klassifikation:', round(accuracy_score(y_test, y_pred),3))"
   ]
  },
  {
   "cell_type": "markdown",
   "metadata": {},
   "source": [
    "## 🧠CNN🧠\n",
    "### Dataset\n",
    "Als nächstes Beispiel gucken wir uns das [MNIST](https://www.tensorflow.org/datasets/catalog/mnist) an. Das Dataset enthält Bilder (28x28 Pixel) mit handgeschriebenen Ziffern (0-9).\n",
    "\n",
    "Bevor das NN trainiert wird, werden die Daten in einem Vorverarbeitungsschritt bearbeitet."
   ]
  },
  {
   "cell_type": "code",
   "execution_count": 85,
   "metadata": {},
   "outputs": [
    {
     "name": "stdout",
     "output_type": "stream",
     "text": [
      "Größe & Dimensionen des Test-Dataset: (60000, 28, 28)\n"
     ]
    }
   ],
   "source": [
    "from keras.datasets import mnist\n",
    "from keras.utils import to_categorical\n",
    "\n",
    "# Laden des MNIST Dataset\n",
    "(X_train, y_train), (X_test, y_test) = mnist.load_data()\n",
    "\n",
    "# Beschreibung des Test-Dataset\n",
    "print('Größe & Dimensionen des Test-Dataset:', X_train.shape)\n",
    "\n",
    "\n",
    "'''Trainings Dataset'''\n",
    "#Reshape (60000 28, 28) -> (60000, 28 * 28) & Skalierung von [0,255] -> [0,1]\n",
    "X_train = X_train.reshape((60000, 28 * 28))\n",
    "X_train = X_train.astype('float32') / 255\n",
    "\n",
    "'''Test Dataset'''\n",
    "#Reshape & Skalierung\n",
    "X_test = X_test.reshape((10000, 28 * 28))\n",
    "X_test = X_test.astype('float32') / 255\n",
    "\n",
    "y_train = to_categorical(y_train)\n",
    "y_test = to_categorical(y_test)"
   ]
  },
  {
   "cell_type": "markdown",
   "metadata": {},
   "source": [
    "####  MNIST-Beispiel Ziffern\n",
    "<img src=\"https://i.imgur.com/OGQ1Ybc.png\" width=500 height=500 />\n",
    "\n",
    "### ML-Algorithmus\n",
    "Ein **Neural Network** (NN) basiert auf einer Sammlung von miteinander verbundenen Nodes, die als Neuronen/Neurons bezeichnet werden. Jede Verbindung kann ein Signal an andere Neurons übertragen. Um das Output-Signal eines Neurons zu berechnen wird die **gewichtete** Summe aller Input-Signal genommen und ein **Bias** addiert. Diese gewichtete Summe wird dann durch eine (in der Regel nichtlineare) Aktivierungsfunktion geleitet, um das Output-Signal zu berrechnen.\n",
    "\n",
    "Die Neurons des NNs befinden sich in den jeweiligen Layern des Netzwerkes. In diesem Beispiel besteht das Netzwerk aus einem `Flatten` Layer und zwei `Dense` (auch *fully connected* genannt) Layern. Im letzten Layer (auch *Output Layer*) befinden sich 10 Nerons. Durch die `softmax`-Aktivierungsfunktion gibt dieses Layer 10 Wahrscheinlichkeiten, korrespondierend zu den 10 möglichen Ziffern, zurück."
   ]
  },
  {
   "cell_type": "code",
   "execution_count": 99,
   "metadata": {},
   "outputs": [],
   "source": [
    "from keras import models\n",
    "from keras import layers\n",
    "import tensorflow as tf\n",
    "\n",
    "# Erstellen der Netzwerkstruktur\n",
    "network = models.Sequential()\n",
    "network.add(layers.Dense(512, activation='relu', input_shape=(28 * 28,)))\n",
    "network.add(layers.Dense(10, activation='softmax'))\n",
    "\n",
    "# Kompilieren des Netzwerkes\n",
    "network.compile(optimizer='rmsprop',\n",
    "                loss='categorical_crossentropy',\n",
    "                metrics=['accuracy'])"
   ]
  },
  {
   "cell_type": "markdown",
   "metadata": {},
   "source": [
    "Nach dem Kompilieren des NNs kann dieses mit `fit()` trainiert werden."
   ]
  },
  {
   "cell_type": "code",
   "execution_count": 101,
   "metadata": {},
   "outputs": [
    {
     "name": "stdout",
     "output_type": "stream",
     "text": [
      "Epoch 1/8\n",
      "469/469 [==============================] - 3s 7ms/step - loss: 0.0125 - accuracy: 0.9965\n",
      "Epoch 2/8\n",
      "469/469 [==============================] - 3s 7ms/step - loss: 0.0099 - accuracy: 0.9972\n",
      "Epoch 3/8\n",
      "469/469 [==============================] - 3s 7ms/step - loss: 0.0079 - accuracy: 0.9979\n",
      "Epoch 4/8\n",
      "469/469 [==============================] - 3s 7ms/step - loss: 0.0060 - accuracy: 0.9982\n",
      "Epoch 5/8\n",
      "469/469 [==============================] - 4s 8ms/step - loss: 0.0046 - accuracy: 0.9987\n",
      "Epoch 6/8\n",
      "469/469 [==============================] - 3s 7ms/step - loss: 0.0036 - accuracy: 0.9992\n",
      "Epoch 7/8\n",
      "469/469 [==============================] - 3s 7ms/step - loss: 0.0030 - accuracy: 0.9992\n",
      "Epoch 8/8\n",
      "469/469 [==============================] - 3s 7ms/step - loss: 0.0022 - accuracy: 0.9992\n",
      "313/313 [==============================] - 2s 6ms/step - loss: 0.0840 - accuracy: 0.9818\n",
      "test_acc: 0.9818000197410583\n"
     ]
    }
   ],
   "source": [
    "# Trainieren des NNs\n",
    "network.fit(X_train, y_train, epochs=8, batch_size=128)\n",
    "\n",
    "# Evaluieren des NNs\n",
    "test_loss, test_acc = network.evaluate(X_test, y_test)\n",
    "print('test_acc:', test_acc)"
   ]
  },
  {
   "cell_type": "markdown",
   "metadata": {},
   "source": [
    "Vergleicht man die beiden `accuracy`s, so stellt man fest, dass die des Training höher ist als die des Tests. Dies ist ein Beispeil von **Overfitting**.\n",
    "\n",
    "> 📝 Overfitting ist das Überoptimieren des Models anhand der Trainingsdaten. Es werden Repräsentationen gelernt, die spezifisch für die Trainingsdaten sind und keine generalisierten Representationen für Daten außerhalb des Trainings Datasets.\n",
    "\n",
    "### Model\n"
   ]
  },
  {
   "cell_type": "code",
   "execution_count": 104,
   "metadata": {},
   "outputs": [
    {
     "name": "stdout",
     "output_type": "stream",
     "text": [
      "Model: \"sequential_20\"\n",
      "_________________________________________________________________\n",
      " Layer (type)                Output Shape              Param #   \n",
      "=================================================================\n",
      " dense_41 (Dense)            (None, 512)               401920    \n",
      "                                                                 \n",
      " dense_42 (Dense)            (None, 10)                5130      \n",
      "                                                                 \n",
      "=================================================================\n",
      "Total params: 407,050\n",
      "Trainable params: 407,050\n",
      "Non-trainable params: 0\n",
      "_________________________________________________________________\n",
      "None\n"
     ]
    }
   ],
   "source": [
    "print(network.summary())"
   ]
  },
  {
   "cell_type": "markdown",
   "metadata": {},
   "source": [
    "## Quellen / Literatur\n",
    "\n",
    "- François Chollet (2017): Deep Learning with Python - Manning Publications\n",
    "- Andriy Burkov (2019): The Hundred-Page Machine Learning Book \n",
    "- [Google Machine Learning Education](https://developers.google.com/machine-learning)\n",
    "- [scikit-learn](https://scikit-learn.org/stable/index.html)"
   ]
  }
 ],
 "metadata": {
  "kernelspec": {
   "display_name": "Python 3 (ipykernel)",
   "language": "python",
   "name": "python3"
  },
  "language_info": {
   "codemirror_mode": {
    "name": "ipython",
    "version": 3
   },
   "file_extension": ".py",
   "mimetype": "text/x-python",
   "name": "python",
   "nbconvert_exporter": "python",
   "pygments_lexer": "ipython3",
   "version": "3.8.13"
  }
 },
 "nbformat": 4,
 "nbformat_minor": 4
}
