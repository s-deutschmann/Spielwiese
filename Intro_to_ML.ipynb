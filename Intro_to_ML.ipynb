{
  "cells": [
    {
      "cell_type": "markdown",
      "metadata": {
        "id": "view-in-github",
        "colab_type": "text"
      },
      "source": [
        "<a href=\"https://colab.research.google.com/github/s-deutschmann/Spielwiese/blob/dev/Intro_to_ML.ipynb\" target=\"_parent\"><img src=\"https://colab.research.google.com/assets/colab-badge.svg\" alt=\"Open In Colab\"/></a>"
      ]
    },
    {
      "cell_type": "markdown",
      "metadata": {
        "pycharm": {
          "name": "#%% md\n"
        },
        "id": "kRU4Ha7dr0Ag"
      },
      "source": [
        "# Machine Learning \n",
        "**🙋🏻‍♂️Q:** Was ist Machine Learning (ML)?\n",
        "\n",
        "**💡A:** ML ist die algorithmische Erstellung eines statistischen Models auf der Grundlage eines Datensatzes.\n",
        "\n",
        "\n",
        "## Mathe 📖\n",
        " Bevor wir beginnen, ein bisschen mathemathische Notation:\n",
        "- **x**: (Feature) Vector\n",
        "\n",
        "- $y$: Label\n",
        "\n",
        "- $N$: Größe des Datasets \n",
        "\n",
        "- $X$: Dataset \n",
        "> 📝 Gibt es zu jedem Feature Vector ein Label, so setzt sich das Dataset aus $X$ = {**x**<sub>$i$</sub>$, y$<sub>$i$</sub>)}$_{i=1}^N$ zusammen. Sind die Daten unlabeled, gilt $X$ = {**x**<sub>$i$</sub>)}$_{i=1}^N$\n",
        "\n",
        "\n",
        "## Unterscheidung von ML-Algorithmen 🔎\n",
        "ML-Algorithmen werden allgmein nach ihren \"Lerntypen\" klassifiziert. \n",
        "\n",
        "### Supervised Learning\n",
        "Das Ziel eines Supervised Learning Algorithmus ist es, aus einem Dataset ein Model zu erstellen, das einen Feature Vectors **x** als Eingabe nimmt und Informationen ausgibt, die es erlauben, das Label für diesen Vektor abzuleiten/zu bestimmen. Die Anwendung von Supervised Learning Algorithmen ist vielfältig, von Klassifikationsproblemen (z.B. automatische Spam Erkennung o. Bildklassifizierung) bis hin zu Prognoseproblemen (z.B. Kusentwicklungen o. Krankheitsprognosen).\n",
        "\n",
        "### Semi-Supervised Learning\n",
        "Beim Semi-Supervised Learning enthält das Dataset sowohl labeld als auch unlabeld Feature Vectors. Dabei ist das Ziel, das gleiche wie bei einem Supervised Learning Algorithmus. Die Hoffnung ist hier, dass die Verwendung vieler unlabeld Feature Vectors\n",
        "dem Lernalgorithmus dabei helfen, ein generischeres Model zu finden.\n",
        "\n",
        "### Unsupervised Learning\n",
        "Beim Unsupervised Learning ist das Dataset eine Sammlung von unlabeld Feature Vectors. Das Ziel eines Unsupervised Learning Algorithmus ist\n",
        "ein Model zu erstellen, dass einen Vektor **x** als Eingabe nimmt und ihn entweder in einen anderen Vektor oder in einen Wert umwandelt, der zur Lösung eines praktischen Problems verwendet werden kann. Mögliche Anwendungsgebiete sind clustering, Dimensionsreduktion oder Ausreißer-Erkennung.\n",
        "\n",
        "### Reinforcement Learning\n",
        "Ein weiterer \"Lerntyp\" ist das Reinforcement Learning. Ähnlich zum Unsupervised Learning werden keine Label im Datasets benötigt. Vielmehr geht es darum, auf Basis von Belohnungen eine optimale Strategie in seinem aktuellen Umweld zu entwickeln. Das Reinforcement Learning behandelt meistens  Probleme, bei welchen sequenzielle Entscheidungen getroffen werden müssen (z.B. Schach spielen). \n",
        "\n",
        "**📹Video-Link📹**:\n",
        "[MIT - Introduction to Machine Learning](https://www.youtube.com/watch?v=h0e2HAPTGF4)\n",
        "\n",
        "\n",
        "## Wie funktioniert Machine Learning? 🤖\n",
        "### Dataset\n",
        "Ein Machine Learning Problem startet immer mit dem Dataset selbst. Zwei wichtige Eigenschaften eines Datasets sind dabei die **Qualität** und die **Größe**.\n",
        "\n",
        "#### Größe\n",
        "> 📝 👊Faustregel👊: Ein Dataset sollte immer ein Vielfaches der lernbaren Labels/Paramenter als Größe haben. Zu groß gibt es eigentlich nicht.\n",
        "\n",
        "Hier ein paar Beispiele von bekannten Datasets:\n",
        "\n",
        "| Dataset | Labels | Größe |\n",
        "| :-- | --: | --: |\n",
        "| [Iris Data Set](https://archive.ics.uci.edu/ml/datasets/iris) | 3 | 150 |\n",
        "| [Chest X-Ray Images](https://www.kaggle.com/datasets/paultimothymooney/chest-xray-pneumonia) | 2 | 5.863 |\n",
        "| [CIFAR-10](https://www.tensorflow.org/datasets/catalog/cifar10) | 10 | 6.000 |\n",
        "| [MNIST](https://www.tensorflow.org/datasets/catalog/mnist) | 10 | 70.000 |\n",
        "| [ImageNet](https://image-net.org/)| 21.800 | 14.200.00 |\n",
        "\n",
        "#### Qualität\n",
        "**🙋🏻‍♂️Q:** Was versteht man unter der Qualität eines Datasets?\n",
        "\n",
        "**💡A:** Die Qualität eines Datasets misst, wie gut die Daten die beabsichtigte Aufgabe erfüllen.\n",
        "\n",
        "Um die Qualität eines Datasets herrauszufinden, können diese Fragen helfen:\n",
        "* Sind die Daten repräsentativ?\n",
        "* Wie häufig sind Fehler? (z.B. fehlende Features o. falsche Label)\n",
        "* Wie genau sind die Daten? \n",
        "* Sollten/können Werte transformiert werden?\n",
        "\n",
        "### ML-Algorithmus\n",
        "Damit aus dem Dataset ein Model generiert werden kann, wird ein ML-Algorithmus genutzt. Ein kleiner Überblick über die weitverbreitetsten ML-Algorithmen:\n",
        "* Decision Tree\n",
        "* Random Forest\n",
        "* Support Vector Machine (SVM)\n",
        "* K- Nearest Neighbors (KNN)\n",
        "* Self-Organizing Map (SOM)\n",
        "* K-Means\n",
        "* Gradient Boosting\n",
        "* Convolutional Neural Network (CNN)\n",
        "* Recurrent Neural Networks (RNNs)\n",
        "\n",
        "Je nach Problemstellung und Dataset wird können ein oder mehrere ML-Algorithmen genutzt werden um ein Model zu trainieren.\n",
        "\n",
        "### Model\n",
        "**🙋🏻‍♂️Q:** Was ist ein Model?\n",
        "\n",
        "**💡A:** Ein Model ist eine aus Daten abgeleitete mathematische Beziehung, die ein ML-System verwendet, um Vorhersagen zu treffen.\n",
        "\n",
        "> 📝 Dataset + ML-Algorithmus = Model"
      ]
    },
    {
      "cell_type": "markdown",
      "metadata": {
        "pycharm": {
          "name": "#%% md\n"
        },
        "id": "oztPW_HRr0As"
      },
      "source": [
        "## Beispiel 1 🌳Decision Trees🌳\n",
        "### Dataset\n",
        "Als erstes Beispiel gucken wir uns das [Iris Data Set](https://archive.ics.uci.edu/ml/datasets/iris) an. Das Dataset enthält Informationen zu drei Klassen der Iris-Pflanze, nämlich Setosa, Versicolour und Virginica, mit den folgenden Attributen: Blattlänge, Battbreite, Blütenblattlänge und Blütenblattbreite.\n",
        "\n",
        "> 📝 Für Data Analysis ➔ [pandas](https://pandas.pydata.org/)"
      ]
    },
    {
      "cell_type": "code",
      "execution_count": 1,
      "metadata": {
        "pycharm": {
          "name": "#%%\n"
        },
        "id": "_qY1QYmsr0Ay",
        "outputId": "51a8c3f3-1837-4008-aef5-98f2060c2823",
        "colab": {
          "base_uri": "https://localhost:8080/",
          "height": 300
        }
      },
      "outputs": [
        {
          "output_type": "execute_result",
          "data": {
            "text/plain": [
              "       sepal length (cm)  sepal width (cm)  petal length (cm)  \\\n",
              "count         150.000000        150.000000         150.000000   \n",
              "mean            5.843333          3.057333           3.758000   \n",
              "std             0.828066          0.435866           1.765298   \n",
              "min             4.300000          2.000000           1.000000   \n",
              "25%             5.100000          2.800000           1.600000   \n",
              "50%             5.800000          3.000000           4.350000   \n",
              "75%             6.400000          3.300000           5.100000   \n",
              "max             7.900000          4.400000           6.900000   \n",
              "\n",
              "       petal width (cm)      target  \n",
              "count        150.000000  150.000000  \n",
              "mean           1.199333    1.000000  \n",
              "std            0.762238    0.819232  \n",
              "min            0.100000    0.000000  \n",
              "25%            0.300000    0.000000  \n",
              "50%            1.300000    1.000000  \n",
              "75%            1.800000    2.000000  \n",
              "max            2.500000    2.000000  "
            ],
            "text/html": [
              "\n",
              "  <div id=\"df-91b443da-c1aa-47ca-87cc-af1f88b8d7d9\">\n",
              "    <div class=\"colab-df-container\">\n",
              "      <div>\n",
              "<style scoped>\n",
              "    .dataframe tbody tr th:only-of-type {\n",
              "        vertical-align: middle;\n",
              "    }\n",
              "\n",
              "    .dataframe tbody tr th {\n",
              "        vertical-align: top;\n",
              "    }\n",
              "\n",
              "    .dataframe thead th {\n",
              "        text-align: right;\n",
              "    }\n",
              "</style>\n",
              "<table border=\"1\" class=\"dataframe\">\n",
              "  <thead>\n",
              "    <tr style=\"text-align: right;\">\n",
              "      <th></th>\n",
              "      <th>sepal length (cm)</th>\n",
              "      <th>sepal width (cm)</th>\n",
              "      <th>petal length (cm)</th>\n",
              "      <th>petal width (cm)</th>\n",
              "      <th>target</th>\n",
              "    </tr>\n",
              "  </thead>\n",
              "  <tbody>\n",
              "    <tr>\n",
              "      <th>count</th>\n",
              "      <td>150.000000</td>\n",
              "      <td>150.000000</td>\n",
              "      <td>150.000000</td>\n",
              "      <td>150.000000</td>\n",
              "      <td>150.000000</td>\n",
              "    </tr>\n",
              "    <tr>\n",
              "      <th>mean</th>\n",
              "      <td>5.843333</td>\n",
              "      <td>3.057333</td>\n",
              "      <td>3.758000</td>\n",
              "      <td>1.199333</td>\n",
              "      <td>1.000000</td>\n",
              "    </tr>\n",
              "    <tr>\n",
              "      <th>std</th>\n",
              "      <td>0.828066</td>\n",
              "      <td>0.435866</td>\n",
              "      <td>1.765298</td>\n",
              "      <td>0.762238</td>\n",
              "      <td>0.819232</td>\n",
              "    </tr>\n",
              "    <tr>\n",
              "      <th>min</th>\n",
              "      <td>4.300000</td>\n",
              "      <td>2.000000</td>\n",
              "      <td>1.000000</td>\n",
              "      <td>0.100000</td>\n",
              "      <td>0.000000</td>\n",
              "    </tr>\n",
              "    <tr>\n",
              "      <th>25%</th>\n",
              "      <td>5.100000</td>\n",
              "      <td>2.800000</td>\n",
              "      <td>1.600000</td>\n",
              "      <td>0.300000</td>\n",
              "      <td>0.000000</td>\n",
              "    </tr>\n",
              "    <tr>\n",
              "      <th>50%</th>\n",
              "      <td>5.800000</td>\n",
              "      <td>3.000000</td>\n",
              "      <td>4.350000</td>\n",
              "      <td>1.300000</td>\n",
              "      <td>1.000000</td>\n",
              "    </tr>\n",
              "    <tr>\n",
              "      <th>75%</th>\n",
              "      <td>6.400000</td>\n",
              "      <td>3.300000</td>\n",
              "      <td>5.100000</td>\n",
              "      <td>1.800000</td>\n",
              "      <td>2.000000</td>\n",
              "    </tr>\n",
              "    <tr>\n",
              "      <th>max</th>\n",
              "      <td>7.900000</td>\n",
              "      <td>4.400000</td>\n",
              "      <td>6.900000</td>\n",
              "      <td>2.500000</td>\n",
              "      <td>2.000000</td>\n",
              "    </tr>\n",
              "  </tbody>\n",
              "</table>\n",
              "</div>\n",
              "      <button class=\"colab-df-convert\" onclick=\"convertToInteractive('df-91b443da-c1aa-47ca-87cc-af1f88b8d7d9')\"\n",
              "              title=\"Convert this dataframe to an interactive table.\"\n",
              "              style=\"display:none;\">\n",
              "        \n",
              "  <svg xmlns=\"http://www.w3.org/2000/svg\" height=\"24px\"viewBox=\"0 0 24 24\"\n",
              "       width=\"24px\">\n",
              "    <path d=\"M0 0h24v24H0V0z\" fill=\"none\"/>\n",
              "    <path d=\"M18.56 5.44l.94 2.06.94-2.06 2.06-.94-2.06-.94-.94-2.06-.94 2.06-2.06.94zm-11 1L8.5 8.5l.94-2.06 2.06-.94-2.06-.94L8.5 2.5l-.94 2.06-2.06.94zm10 10l.94 2.06.94-2.06 2.06-.94-2.06-.94-.94-2.06-.94 2.06-2.06.94z\"/><path d=\"M17.41 7.96l-1.37-1.37c-.4-.4-.92-.59-1.43-.59-.52 0-1.04.2-1.43.59L10.3 9.45l-7.72 7.72c-.78.78-.78 2.05 0 2.83L4 21.41c.39.39.9.59 1.41.59.51 0 1.02-.2 1.41-.59l7.78-7.78 2.81-2.81c.8-.78.8-2.07 0-2.86zM5.41 20L4 18.59l7.72-7.72 1.47 1.35L5.41 20z\"/>\n",
              "  </svg>\n",
              "      </button>\n",
              "      \n",
              "  <style>\n",
              "    .colab-df-container {\n",
              "      display:flex;\n",
              "      flex-wrap:wrap;\n",
              "      gap: 12px;\n",
              "    }\n",
              "\n",
              "    .colab-df-convert {\n",
              "      background-color: #E8F0FE;\n",
              "      border: none;\n",
              "      border-radius: 50%;\n",
              "      cursor: pointer;\n",
              "      display: none;\n",
              "      fill: #1967D2;\n",
              "      height: 32px;\n",
              "      padding: 0 0 0 0;\n",
              "      width: 32px;\n",
              "    }\n",
              "\n",
              "    .colab-df-convert:hover {\n",
              "      background-color: #E2EBFA;\n",
              "      box-shadow: 0px 1px 2px rgba(60, 64, 67, 0.3), 0px 1px 3px 1px rgba(60, 64, 67, 0.15);\n",
              "      fill: #174EA6;\n",
              "    }\n",
              "\n",
              "    [theme=dark] .colab-df-convert {\n",
              "      background-color: #3B4455;\n",
              "      fill: #D2E3FC;\n",
              "    }\n",
              "\n",
              "    [theme=dark] .colab-df-convert:hover {\n",
              "      background-color: #434B5C;\n",
              "      box-shadow: 0px 1px 3px 1px rgba(0, 0, 0, 0.15);\n",
              "      filter: drop-shadow(0px 1px 2px rgba(0, 0, 0, 0.3));\n",
              "      fill: #FFFFFF;\n",
              "    }\n",
              "  </style>\n",
              "\n",
              "      <script>\n",
              "        const buttonEl =\n",
              "          document.querySelector('#df-91b443da-c1aa-47ca-87cc-af1f88b8d7d9 button.colab-df-convert');\n",
              "        buttonEl.style.display =\n",
              "          google.colab.kernel.accessAllowed ? 'block' : 'none';\n",
              "\n",
              "        async function convertToInteractive(key) {\n",
              "          const element = document.querySelector('#df-91b443da-c1aa-47ca-87cc-af1f88b8d7d9');\n",
              "          const dataTable =\n",
              "            await google.colab.kernel.invokeFunction('convertToInteractive',\n",
              "                                                     [key], {});\n",
              "          if (!dataTable) return;\n",
              "\n",
              "          const docLinkHtml = 'Like what you see? Visit the ' +\n",
              "            '<a target=\"_blank\" href=https://colab.research.google.com/notebooks/data_table.ipynb>data table notebook</a>'\n",
              "            + ' to learn more about interactive tables.';\n",
              "          element.innerHTML = '';\n",
              "          dataTable['output_type'] = 'display_data';\n",
              "          await google.colab.output.renderOutput(dataTable, element);\n",
              "          const docLink = document.createElement('div');\n",
              "          docLink.innerHTML = docLinkHtml;\n",
              "          element.appendChild(docLink);\n",
              "        }\n",
              "      </script>\n",
              "    </div>\n",
              "  </div>\n",
              "  "
            ]
          },
          "metadata": {},
          "execution_count": 1
        }
      ],
      "source": [
        "import pandas as pd\n",
        "from sklearn.datasets import load_iris\n",
        "\n",
        "\n",
        "#Laden des Iris Dataset\n",
        "iris_data = load_iris(as_frame=True)\n",
        "\n",
        "# Konvertierung der CSV in Pandas Dataframe\n",
        "df = pd.DataFrame(data=iris_data.frame)\n",
        "\n",
        "# Zusammenfassung des Datasets\n",
        "df.describe()"
      ]
    },
    {
      "cell_type": "code",
      "execution_count": 2,
      "metadata": {
        "pycharm": {
          "name": "#%%\n"
        },
        "id": "1kNFmOcir0A3",
        "outputId": "9ca4f5f1-ca11-456b-fd4b-a9ee1da5376d",
        "colab": {
          "base_uri": "https://localhost:8080/",
          "height": 265
        }
      },
      "outputs": [
        {
          "output_type": "display_data",
          "data": {
            "text/plain": [
              "<Figure size 432x288 with 1 Axes>"
            ],
            "image/png": "[encoded data removed]"
          },
          "metadata": {
            "needs_background": "light"
          }
        }
      ],
      "source": [
        "import matplotlib\n",
        "import matplotlib.pyplot as plt\n",
        "\n",
        "# Visualisierung \n",
        "fig, ax = plt.subplots()\n",
        "# Scatterplot\n",
        "colors = ['tab:red','tab:blue','tab:orange']\n",
        "scatter = ax.scatter(df['petal length (cm)'], df['petal width (cm)'], c=df['target'], cmap=matplotlib.colors.ListedColormap(colors))\n",
        "# Legende\n",
        "legend1 = ax.legend(scatter.legend_elements()[0], iris_data.target_names, title='Typ')\n",
        "ax.add_artist(legend1)\n",
        "\n",
        "plt.show()"
      ]
    },
    {
      "cell_type": "markdown",
      "metadata": {
        "pycharm": {
          "name": "#%% md\n"
        },
        "id": "zCQsR7Kbr0A6"
      },
      "source": [
        "### ML-Algorithmus\n",
        "Ein **Decision Tree** ist ein azyklischer Graph, der zur Entscheidungsfindung verwendet werden kann. In jeder Node des Graphen wird ein bestimmtes Feature $j$ des Feature Vectors **x** untersucht. Wenn der Wert von **x**$^j$ unter einem bestimmten Schwellenwert liegt, wird dem linken Branch gefolgt, andernfalls wird dem rechte Branch gefolgt.\n",
        "\n",
        "**Decision Trees** können auf Basis unterschiedlicher Lernalgorithmen trainiert werden. In diesem Beispiel nutzen wir die [Scikit-learn Libary](https://scikit-learn.org/stable/modules/tree.html), welche **CART** verwendet.\n",
        "\n",
        "Der Parameter `criterion` ist ein sogenannter **Hyperparameter**.\n",
        "> 📝 Hyperparameter sind Parameter, deren Werte *nicht* durch Training erlernt werden. Sie dienen zur Kontrolle des Lernverhaltens. "
      ]
    },
    {
      "cell_type": "code",
      "execution_count": null,
      "metadata": {
        "pycharm": {
          "name": "#%%\n"
        },
        "id": "SDWByT9zr0A9"
      },
      "outputs": [],
      "source": [
        "from sklearn.tree import DecisionTreeClassifier\n",
        "from sklearn.model_selection import train_test_split\n",
        "\n",
        "# Unterteilen des Dataset in Trainings- & Testdaten (70:30)\n",
        "X, y = iris_data.data, iris_data.target\n",
        "X_train, X_test, y_train, y_test = train_test_split(X, y, test_size=0.3, random_state=4)\n",
        "\n",
        "# Berechnen des Models\n",
        "clf = DecisionTreeClassifier(criterion='gini')\n",
        "clf.fit(X_train, y_train)"
      ]
    },
    {
      "cell_type": "markdown",
      "metadata": {
        "pycharm": {
          "name": "#%% md\n"
        },
        "id": "fyWpLBLZr0BA"
      },
      "source": [
        "### Model\n",
        "Mit `tree.plot()` kann der resultierende Decision Tree vizualisiert werden. "
      ]
    },
    {
      "cell_type": "code",
      "execution_count": null,
      "metadata": {
        "pycharm": {
          "name": "#%%\n"
        },
        "id": "zyuqY5DEr0BC"
      },
      "outputs": [],
      "source": [
        "import graphviz\n",
        "from sklearn import tree\n",
        "\n",
        "# Visualisierung des Models\n",
        "tree.plot_tree(clf, feature_names=X.columns)"
      ]
    },
    {
      "cell_type": "code",
      "execution_count": null,
      "metadata": {
        "pycharm": {
          "name": "#%%\n"
        },
        "id": "MKe38XtWr0BE"
      },
      "outputs": [],
      "source": [
        "from sklearn.metrics import accuracy_score\n",
        "\n",
        "# Prediction der Label von ungesehenen Testdaten\n",
        "y_pred = clf.predict(X_test)\n",
        "print('Genauigkeit der Testdaten-Klassifikation:', round(accuracy_score(y_test, y_pred),3))"
      ]
    },
    {
      "cell_type": "markdown",
      "metadata": {
        "pycharm": {
          "name": "#%% md\n"
        },
        "id": "-BO8Ueizr0BH"
      },
      "source": [
        "## 🧠CNN🧠\n",
        "### Dataset\n",
        "Als nächstes Beispiel gucken wir uns das [MNIST](https://www.tensorflow.org/datasets/catalog/mnist) an. Das Dataset enthält Bilder (28x28 Pixel) mit handgeschriebenen Ziffern (0-9).\n",
        "\n",
        "Bevor das NN trainiert wird, werden die Daten in einem Vorverarbeitungsschritt bearbeitet."
      ]
    },
    {
      "cell_type": "code",
      "execution_count": null,
      "metadata": {
        "pycharm": {
          "name": "#%%\n"
        },
        "id": "gkJP6TWxr0BJ"
      },
      "outputs": [],
      "source": [
        "from keras.datasets import mnist\n",
        "from keras.utils import to_categorical\n",
        "\n",
        "# Laden des MNIST Dataset\n",
        "(X_train, y_train), (X_test, y_test) = mnist.load_data()\n",
        "\n",
        "# Beschreibung des Test-Dataset\n",
        "print('Größe & Dimensionen des Test-Dataset:', X_train.shape)\n",
        "\n",
        "\n",
        "'''Trainings Dataset'''\n",
        "#Reshape (60000 28, 28) -> (60000, 28 * 28) & Skalierung von [0,255] -> [0,1]\n",
        "X_train = X_train.reshape((60000, 28 * 28))\n",
        "X_train = X_train.astype('float32') / 255\n",
        "\n",
        "'''Test Dataset'''\n",
        "#Reshape & Skalierung\n",
        "X_test = X_test.reshape((10000, 28 * 28))\n",
        "X_test = X_test.astype('float32') / 255\n",
        "\n",
        "y_train = to_categorical(y_train)\n",
        "y_test = to_categorical(y_test)"
      ]
    },
    {
      "cell_type": "markdown",
      "metadata": {
        "pycharm": {
          "name": "#%% md\n"
        },
        "id": "wKzbp1OLr0BN"
      },
      "source": [
        "####  MNIST-Beispiel Ziffern\n",
        "<img src=\"https://i.imgur.com/OGQ1Ybc.png\" width=500 height=500 />\n",
        "\n",
        "### ML-Algorithmus\n",
        "Ein **Neural Network** (NN) basiert auf einer Sammlung von miteinander verbundenen Nodes, die als Neuronen/Neurons bezeichnet werden. Jede Verbindung kann ein Signal an andere Neurons übertragen. Um das Output-Signal eines Neurons zu berechnen wird die **gewichtete** Summe aller Input-Signal genommen und ein **Bias** addiert. Diese gewichtete Summe wird dann durch eine (in der Regel nichtlineare) Aktivierungsfunktion geleitet, um das Output-Signal zu berrechnen.\n",
        "\n",
        "Die Neurons des NNs befinden sich in den jeweiligen Layern des Netzwerkes. In diesem Beispiel besteht das Netzwerk aus einem `Flatten` Layer und zwei `Dense` (auch *fully connected* genannt) Layern. Im letzten Layer (auch *Output Layer*) befinden sich 10 Nerons. Durch die `softmax`-Aktivierungsfunktion gibt dieses Layer 10 Wahrscheinlichkeiten, korrespondierend zu den 10 möglichen Ziffern, zurück."
      ]
    },
    {
      "cell_type": "code",
      "execution_count": null,
      "metadata": {
        "pycharm": {
          "name": "#%%\n"
        },
        "id": "xPIemV6ar0BP"
      },
      "outputs": [],
      "source": [
        "from keras import models\n",
        "from keras import layers\n",
        "import tensorflow as tf\n",
        "\n",
        "# Erstellen der Netzwerkstruktur\n",
        "network = models.Sequential()\n",
        "network.add(layers.Dense(512, activation='relu', input_shape=(28 * 28,)))\n",
        "network.add(layers.Dense(10, activation='softmax'))\n",
        "\n",
        "# Kompilieren des Netzwerkes\n",
        "network.compile(optimizer='rmsprop',\n",
        "                loss='categorical_crossentropy',\n",
        "                metrics=['accuracy'])"
      ]
    },
    {
      "cell_type": "markdown",
      "metadata": {
        "pycharm": {
          "name": "#%% md\n"
        },
        "id": "AHXfNvt5r0BR"
      },
      "source": [
        "Nach dem Kompilieren des NNs kann dieses mit `fit()` trainiert werden."
      ]
    },
    {
      "cell_type": "code",
      "execution_count": null,
      "metadata": {
        "pycharm": {
          "name": "#%%\n"
        },
        "id": "KIr0Dx-xr0BT"
      },
      "outputs": [],
      "source": [
        "# Trainieren des NNs\n",
        "network.fit(X_train, y_train, epochs=8, batch_size=128)\n",
        "\n",
        "# Evaluieren des NNs\n",
        "test_loss, test_acc = network.evaluate(X_test, y_test)\n",
        "print('test_acc:', test_acc)"
      ]
    },
    {
      "cell_type": "markdown",
      "metadata": {
        "pycharm": {
          "name": "#%% md\n"
        },
        "id": "PbxeGpZwr0BU"
      },
      "source": [
        "Vergleicht man die beiden `accuracy`s, so stellt man fest, dass die des Training höher ist als die des Tests. Dies ist ein Beispeil von **Overfitting**.\n",
        "\n",
        "> 📝 Overfitting ist das Überoptimieren des Models anhand der Trainingsdaten. Es werden Repräsentationen gelernt, die spezifisch für die Trainingsdaten sind und keine generalisierten Representationen für Daten außerhalb des Trainings Datasets.\n",
        "\n",
        "### Model\n"
      ]
    },
    {
      "cell_type": "code",
      "execution_count": null,
      "metadata": {
        "pycharm": {
          "name": "#%%\n"
        },
        "id": "w7KTzJ79r0BV"
      },
      "outputs": [],
      "source": [
        "print(network.summary())"
      ]
    },
    {
      "cell_type": "markdown",
      "metadata": {
        "pycharm": {
          "name": "#%% md\n"
        },
        "id": "3nY0yN0hr0BW"
      },
      "source": [
        "## Quellen / Literatur\n",
        "\n",
        "- François Chollet (2017): Deep Learning with Python - Manning Publications\n",
        "- Andriy Burkov (2019): The Hundred-Page Machine Learning Book \n",
        "- [Google Machine Learning Education](https://developers.google.com/machine-learning)\n",
        "- [scikit-learn](https://scikit-learn.org/stable/index.html)"
      ]
    }
  ],
  "metadata": {
    "kernelspec": {
      "display_name": "Python 3 (ipykernel)",
      "language": "python",
      "name": "python3"
    },
    "language_info": {
      "codemirror_mode": {
        "name": "ipython",
        "version": 3
      },
      "file_extension": ".py",
      "mimetype": "text/x-python",
      "name": "python",
      "nbconvert_exporter": "python",
      "pygments_lexer": "ipython3",
      "version": "3.8.13"
    },
    "colab": {
      "provenance": [],
      "include_colab_link": true
    }
  },
  "nbformat": 4,
  "nbformat_minor": 0
}